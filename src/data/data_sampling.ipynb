{
 "cells": [
  {
   "cell_type": "markdown",
   "metadata": {},
   "source": [
    "#### 1. 누락 경로 필터링 (LibriSpeech/train-other-500)\n",
    "\n",
    "#### 2. stage-1\n",
    "- task별로 분리해준 후에 \n",
    "- 오디오 길이 기준 이상치(상-하위 5%)를 제거하고\n",
    "- 다시 텍스트 기준 10분위 분할한 후에\n",
    "- 각 분위에서 설정한 갯수에 맞춰 샘플링\n",
    "\n",
    "#### 3. stage-2\n",
    "- task별로 분리해준 후에 \n",
    "- 오디오 길이 기준 이상치(상-하위 5%)를 제거하고\n",
    "- 다시 텍스트 기준 10분위 분할한 후에\n",
    "- 각 분위에서 설정한 갯수에 맞춰 샘플링\n",
    "- filtered_stage1_train.json에 대하여 asr, audiocaption task 각각에 대해\n",
    "오디오 길이 기준 상위 하위 5퍼센트를 제외하고, 중복을 피해 각 1만개씩만 stage-2로 추가 샘플링\n",
    "\n",
    "#### 4. 중복경로 제거\n"
   ]
  },
  {
   "cell_type": "code",
   "execution_count": null,
   "metadata": {},
   "outputs": [],
   "source": [
    "# 1. 누락경로 제거\n",
    "\n",
    "import json\n",
    "import os\n",
    "\n",
    "def filter_librispeech_other500(input_files):\n",
    "    for file_path in input_files:\n",
    "        # 파일 읽기\n",
    "        with open(file_path, 'r', encoding='utf-8') as f:\n",
    "            data = json.load(f)\n",
    "        \n",
    "        # 처리 전 개수 저장\n",
    "        before_count = len(data['annotation'])\n",
    "        \n",
    "        # LibriSpeech/train-other-500으로 시작하는 path를 가진 항목 필터링\n",
    "        filtered_annotations = [\n",
    "            item for item in data['annotation'] \n",
    "            if not item['path'].startswith('/LibriSpeech/train-other-500')\n",
    "        ]\n",
    "        \n",
    "        # 필터링된 결과로 데이터 업데이트\n",
    "        data['annotation'] = filtered_annotations\n",
    "        \n",
    "        # 처리 후 개수 계산\n",
    "        after_count = len(data['annotation'])\n",
    "        \n",
    "        # 결과 출력\n",
    "        print(f\"File: {file_path}\")\n",
    "        print(f\"Before filtering: {before_count} items\")\n",
    "        print(f\"After filtering: {after_count} items\")\n",
    "        print(f\"Removed: {before_count - after_count} items\\n\")\n",
    "        \n",
    "        # 현재 폴더에 새 파일명으로 저장\n",
    "        original_filename = os.path.basename(file_path)\n",
    "        new_filename = f\"filtered_{original_filename}\"\n",
    "        \n",
    "        # 한 줄로 저장 (공백 없이)\n",
    "        with open(new_filename, 'w', encoding='utf-8') as f:\n",
    "            f.write(json.dumps(data, ensure_ascii=False, separators=(', ', ': ')))\n",
    "        \n",
    "        print(f\"Saved as: {new_filename}\\n\")\n",
    "\n",
    "# 파일 경로 리스트\n",
    "input_files = ['stage1_train.json', 'stage2_train.json']\n",
    "\n",
    "# 실행\n",
    "filter_librispeech_other500(input_files)"
   ]
  }
 ],
 "metadata": {
  "kernelspec": {
   "display_name": "hsk",
   "language": "python",
   "name": "python3"
  },
  "language_info": {
   "name": "python",
   "version": "3.9.17"
  }
 },
 "nbformat": 4,
 "nbformat_minor": 2
}
